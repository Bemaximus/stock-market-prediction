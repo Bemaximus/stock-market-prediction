{
 "cells": [
  {
   "cell_type": "code",
   "execution_count": 5,
   "metadata": {},
   "outputs": [],
   "source": [
    "from pandas_datareader import data as pdr\n",
    "from datetime import date\n",
    "import datetime\n",
    "import yfinance as yf\n",
    "yf.pdr_override()\n",
    "import pandas as pd"
   ]
  },
  {
   "cell_type": "code",
   "execution_count": 6,
   "metadata": {},
   "outputs": [
    {
     "name": "stdout",
     "output_type": "stream",
     "text": [
      "              Open    High     Low   Close\n",
      "Date                                      \n",
      "2015-08-03  190.54  190.60  188.90  189.93\n",
      "2015-08-04  189.85  190.35  189.03  189.56\n",
      "2015-08-05  190.53  191.31  189.88  190.18\n",
      "2015-08-06  190.38  190.50  187.99  188.63\n",
      "2015-08-07  188.45  188.62  187.29  188.26\n",
      "...            ...     ...     ...     ...\n",
      "2020-07-27  321.63  323.41  320.77  323.22\n",
      "2020-07-28  322.43  323.64  320.85  321.17\n",
      "2020-07-29  322.12  325.73  322.08  325.12\n",
      "2020-07-30  321.90  324.41  319.64  323.96\n",
      "2020-07-31  325.90  326.63  321.33  326.52\n",
      "\n",
      "[1259 rows x 4 columns]\n"
     ]
    }
   ],
   "source": [
    "SPY = yf.Ticker('SPY')\n",
    "hist = SPY.history(period=\"5y\")\n",
    "hist = hist.drop(['Dividends', 'Stock Splits', 'Volume'], axis=1)\n",
    "print(hist)"
   ]
  },
  {
   "cell_type": "code",
   "execution_count": 7,
   "metadata": {},
   "outputs": [
    {
     "name": "stdout",
     "output_type": "stream",
     "text": [
      "2011-10-15\n"
     ]
    }
   ],
   "source": [
    "for row, column in hist.iterrows():\n",
    "#     print(row, column)\n",
    "    pass\n",
    "\n",
    "# print(hist.loc['2015-07-30'])\n",
    "# print(hist.iloc[0])\n",
    "hist.index.get_loc('2015-08-03')\n",
    "\n",
    "startdate = \"10-10-2011\"\n",
    "enddate = pd.to_datetime(startdate) + pd.DateOffset(days=5)\n",
    "print(str(enddate)[0:10])\n",
    "\n",
    "# date_1 = datetime.datetime.strptime('03/04/2020', \"%m/%d/%y\")\n",
    "# end_date = date_1 + datetime.timedelta(days=10)\n",
    "# current_start_date = str(pd.to_datetime(current_start_date) + pd.DateOffset(days=1))[0:10]"
   ]
  },
  {
   "cell_type": "code",
   "execution_count": 59,
   "metadata": {},
   "outputs": [],
   "source": [
    "def three_line_strike_pos(ticker, start_date, how_far_back):\n",
    "    \n",
    "#     Get dataframe of ticker data\n",
    "    symbol = yf.Ticker(ticker)\n",
    "    hist = symbol.history(period=how_far_back)\n",
    "    hist = hist.drop(['Dividends', 'Stock Splits', 'Volume'], axis=1)\n",
    "    \n",
    "    current_index = hist.index.get_loc(start_date)\n",
    "    current_data = hist.iloc[current_index]['Close']\n",
    "    \n",
    "    try:\n",
    "        while True:\n",
    "\n",
    "            if hist.iloc[current_index + 1]['Close'] > current_data and hist.iloc[current_index + 1]['Close'] > hist.iloc[current_index + 1]['Open']:\n",
    "                first_close = current_data\n",
    "                current_data = hist.iloc[current_index + 1]['Close']\n",
    "                current_index += 1\n",
    "                if hist.iloc[current_index + 1]['Close'] > current_data and hist.iloc[current_index + 1]['Close'] > hist.iloc[current_index + 1]['Open']:\n",
    "                    current_data = hist.iloc[current_index + 1]['Close']\n",
    "                    current_index += 1\n",
    "                    if hist.iloc[current_index + 1]['Close'] > current_data and hist.iloc[current_index + 1]['Close'] > hist.iloc[current_index + 1]['Open']:\n",
    "                        current_data = hist.iloc[current_index + 1]['Close']\n",
    "                        current_index += 1\n",
    "                        if hist.iloc[current_index + 1]['Close'] <= first_close:\n",
    "                            current_data = hist.iloc[current_index + 1]['Close']\n",
    "                            current_index += 1\n",
    "                            print(hist.iloc[current_index])\n",
    "                        else:\n",
    "                            current_index += 1\n",
    "                            current_data = hist.iloc[current_index]['Close']\n",
    "                    else:\n",
    "                        current_index += 1\n",
    "                        current_data = hist.iloc[current_index]['Close']\n",
    "                else:\n",
    "                    current_index += 1\n",
    "                    current_data = hist.iloc[current_index]['Close']\n",
    "            else:\n",
    "                current_index += 1\n",
    "                current_data = hist.iloc[current_index]['Close']\n",
    "        \n",
    "    except IndexError:\n",
    "         return 'end'"
   ]
  },
  {
   "cell_type": "code",
   "execution_count": 60,
   "metadata": {},
   "outputs": [],
   "source": [
    "def three_line_strike_neg(ticker, start_date, how_far_back):\n",
    "    \n",
    "#     Get dataframe of ticker data\n",
    "    symbol = yf.Ticker(ticker)\n",
    "    hist = symbol.history(period=how_far_back)\n",
    "    hist = hist.drop(['Dividends', 'Stock Splits', 'Volume'], axis=1)\n",
    "    \n",
    "    current_index = hist.index.get_loc(start_date)\n",
    "    current_data = hist.iloc[current_index]['Close']\n",
    "    \n",
    "    try:\n",
    "        while True:\n",
    "\n",
    "            if hist.iloc[current_index + 1]['Close'] < current_data and hist.iloc[current_index + 1]['Close'] < hist.iloc[current_index + 1]['Open']:\n",
    "                first_close = current_data\n",
    "                current_data = hist.iloc[current_index + 1]['Close']\n",
    "                current_index += 1\n",
    "                if hist.iloc[current_index + 1]['Close'] < current_data and hist.iloc[current_index + 1]['Close'] < hist.iloc[current_index + 1]['Open']:\n",
    "                    current_data = hist.iloc[current_index + 1]['Close']\n",
    "                    current_index += 1\n",
    "                    if hist.iloc[current_index + 1]['Close'] < current_data and hist.iloc[current_index + 1]['Close'] < hist.iloc[current_index + 1]['Open']:\n",
    "                        current_data = hist.iloc[current_index + 1]['Close']\n",
    "                        current_index += 1\n",
    "                        if hist.iloc[current_index + 1]['Close'] >= first_close:\n",
    "                            current_data = hist.iloc[current_index + 1]['Close']\n",
    "                            current_index += 1\n",
    "                            print(hist.iloc[current_index])\n",
    "                        else:\n",
    "                            current_index += 1\n",
    "                            current_data = hist.iloc[current_index]['Close']\n",
    "                    else:\n",
    "                        current_index += 1\n",
    "                        current_data = hist.iloc[current_index]['Close']\n",
    "                else:\n",
    "                    current_index += 1\n",
    "                    current_data = hist.iloc[current_index]['Close']\n",
    "            else:\n",
    "                current_index += 1\n",
    "                current_data = hist.iloc[current_index]['Close']\n",
    "        \n",
    "    except IndexError:\n",
    "         return 'end'"
   ]
  },
  {
   "cell_type": "code",
   "execution_count": 61,
   "metadata": {},
   "outputs": [
    {
     "name": "stdout",
     "output_type": "stream",
     "text": [
      "Open     110.00\n",
      "High     111.19\n",
      "Low      108.63\n",
      "Close    108.93\n",
      "Name: 2011-02-22 00:00:00, dtype: float64\n",
      "Open     287.55\n",
      "High     287.78\n",
      "Low      284.70\n",
      "Close    284.71\n",
      "Name: 2019-05-01 00:00:00, dtype: float64\n"
     ]
    },
    {
     "data": {
      "text/plain": [
       "'end'"
      ]
     },
     "execution_count": 61,
     "metadata": {},
     "output_type": "execute_result"
    }
   ],
   "source": [
    "three_line_strike_pos('SPY', '2010-08-30', '10y')"
   ]
  },
  {
   "cell_type": "code",
   "execution_count": 62,
   "metadata": {},
   "outputs": [
    {
     "name": "stdout",
     "output_type": "stream",
     "text": [
      "Open     100.21\n",
      "High     100.75\n",
      "Low       99.61\n",
      "Close    100.36\n",
      "Name: 2011-11-28 00:00:00, dtype: float64\n",
      "Open     177.73\n",
      "High     178.63\n",
      "Low      177.05\n",
      "Close    178.56\n",
      "Name: 2014-09-05 00:00:00, dtype: float64\n",
      "Open     189.06\n",
      "High     190.21\n",
      "Low      189.01\n",
      "Close    190.14\n",
      "Name: 2015-03-02 00:00:00, dtype: float64\n"
     ]
    },
    {
     "data": {
      "text/plain": [
       "'end'"
      ]
     },
     "execution_count": 62,
     "metadata": {},
     "output_type": "execute_result"
    }
   ],
   "source": [
    "three_line_strike_neg('SPY', '2010-08-30', '10y')"
   ]
  },
  {
   "cell_type": "code",
   "execution_count": null,
   "metadata": {},
   "outputs": [],
   "source": []
  },
  {
   "cell_type": "code",
   "execution_count": null,
   "metadata": {},
   "outputs": [],
   "source": []
  },
  {
   "cell_type": "code",
   "execution_count": null,
   "metadata": {},
   "outputs": [],
   "source": []
  }
 ],
 "metadata": {
  "kernelspec": {
   "display_name": "Python 3",
   "language": "python",
   "name": "python3"
  },
  "language_info": {
   "codemirror_mode": {
    "name": "ipython",
    "version": 3
   },
   "file_extension": ".py",
   "mimetype": "text/x-python",
   "name": "python",
   "nbconvert_exporter": "python",
   "pygments_lexer": "ipython3",
   "version": "3.8.5"
  }
 },
 "nbformat": 4,
 "nbformat_minor": 4
}
